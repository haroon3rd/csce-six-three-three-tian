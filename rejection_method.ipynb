{
  "nbformat": 4,
  "nbformat_minor": 0,
  "metadata": {
    "colab": {
      "name": "rejection_method.ipynb",
      "provenance": []
    },
    "kernelspec": {
      "name": "python3",
      "display_name": "Python 3"
    }
  },
  "cells": [
    {
      "cell_type": "code",
      "metadata": {
        "colab": {
          "base_uri": "https://localhost:8080/",
          "height": 598
        },
        "id": "vcVtKJWhNbO7",
        "outputId": "a5887b8d-11a6-409a-f83a-95f8d418c50f"
      },
      "source": [
        "# Rejection method sample code\n",
        "\n",
        "\n",
        "import numpy as np\n",
        "import matplotlib.pyplot as plt\n",
        "import random\n",
        "\n",
        "# 1. set up probability for 4 events\n",
        "p = np.array([0.2, 0.1, 0.4, 0.3])\n",
        "\n",
        "# 2. function definition: generate random event \n",
        "def random_event():\n",
        "\n",
        "  while (True):\n",
        "\n",
        "    a = random.randint(0,3) # generate rondom event \"a\"\n",
        "    r = random.random()  \n",
        "\n",
        "    if (r <= p[a]):  \n",
        "      # accept event \"a\"!\n",
        "      return a\n",
        "    else:\n",
        "      # reject event \"a\" and repeat\n",
        "      continue\n",
        "\n",
        "# 3. simulation \n",
        "\n",
        "n = 1000\n",
        "\n",
        "outcome = np.zeros(n)\n",
        "\n",
        "for i in range(n):\n",
        "  outcome[i] = random_event()\n",
        "\n",
        "# 4. plot sampled events\n",
        "fig=plt.figure()\n",
        "plt.plot(outcome,\".\",markersize=0.5)\n",
        "\n",
        "# 5. plot histogram : Note: for event 0, 1, 2, 3, the count would be around 200, 100, 400, and 300. \n",
        "\n",
        "fig2=plt.figure()\n",
        "plt.hist(outcome,bins='auto')\n"
      ],
      "execution_count": 1,
      "outputs": [
        {
          "output_type": "execute_result",
          "data": {
            "text/plain": [
              "(array([189.,   0.,   0.,  86.,   0.,   0.,   0., 408.,   0.,   0., 317.]),\n",
              " array([0.        , 0.27272727, 0.54545455, 0.81818182, 1.09090909,\n",
              "        1.36363636, 1.63636364, 1.90909091, 2.18181818, 2.45454545,\n",
              "        2.72727273, 3.        ]),\n",
              " <a list of 11 Patch objects>)"
            ]
          },
          "metadata": {
            "tags": []
          },
          "execution_count": 1
        },
        {
          "output_type": "display_data",
          "data": {
            "image/png": "[encoded data removed]",
            "text/plain": [
              "<Figure size 432x288 with 1 Axes>"
            ]
          },
          "metadata": {
            "tags": [],
            "needs_background": "light"
          }
        },
        {
          "output_type": "display_data",
          "data": {
            "image/png": "[encoded data removed]",
            "text/plain": [
              "<Figure size 432x288 with 1 Axes>"
            ]
          },
          "metadata": {
            "tags": [],
            "needs_background": "light"
          }
        }
      ]
    }
  ]
}